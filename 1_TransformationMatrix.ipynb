{
 "cells": [
  {
   "cell_type": "markdown",
   "metadata": {},
   "source": [
    "# Homogeneous Transformation Example\n",
    "\n",
    "Homogeneous transformation is a fundamental tool in robotics and computer graphics. It allows us to represent both linear and rotational transformations in a 3D coordinate system using a single matrix. In this document, we demonstrate creating and manipulating a homogeneous transformation.\n",
    "\n",
    "## Setup\n",
    "\n",
    "To start, we need to import the necessary libraries:\n",
    "\n",
    "```python\n",
    "\n"
   ]
  },
  {
   "cell_type": "code",
   "execution_count": 2,
   "metadata": {},
   "outputs": [
    {
     "name": "stdout",
     "output_type": "stream",
     "text": [
      "Translation Transformation T1:\n",
      "  \u001b[38;5;1m 1       \u001b[0m \u001b[38;5;1m 0       \u001b[0m \u001b[38;5;1m 0       \u001b[0m \u001b[38;5;4m 1       \u001b[0m  \u001b[0m\n",
      "  \u001b[38;5;1m 0       \u001b[0m \u001b[38;5;1m 1       \u001b[0m \u001b[38;5;1m 0       \u001b[0m \u001b[38;5;4m 2       \u001b[0m  \u001b[0m\n",
      "  \u001b[38;5;1m 0       \u001b[0m \u001b[38;5;1m 0       \u001b[0m \u001b[38;5;1m 1       \u001b[0m \u001b[38;5;4m 3       \u001b[0m  \u001b[0m\n",
      "  \u001b[38;5;244m 0       \u001b[0m \u001b[38;5;244m 0       \u001b[0m \u001b[38;5;244m 0       \u001b[0m \u001b[38;5;244m 1       \u001b[0m  \u001b[0m\n",
      "\n",
      "\n",
      "Rotation around Z-axis (45 degrees) Rz_45:\n",
      "  \u001b[38;5;1m 0.7071  \u001b[0m \u001b[38;5;1m-0.7071  \u001b[0m \u001b[38;5;1m 0       \u001b[0m \u001b[38;5;4m 0       \u001b[0m  \u001b[0m\n",
      "  \u001b[38;5;1m 0.7071  \u001b[0m \u001b[38;5;1m 0.7071  \u001b[0m \u001b[38;5;1m 0       \u001b[0m \u001b[38;5;4m 0       \u001b[0m  \u001b[0m\n",
      "  \u001b[38;5;1m 0       \u001b[0m \u001b[38;5;1m 0       \u001b[0m \u001b[38;5;1m 1       \u001b[0m \u001b[38;5;4m 0       \u001b[0m  \u001b[0m\n",
      "  \u001b[38;5;244m 0       \u001b[0m \u001b[38;5;244m 0       \u001b[0m \u001b[38;5;244m 0       \u001b[0m \u001b[38;5;244m 1       \u001b[0m  \u001b[0m\n",
      "\n",
      "Combined Transformation:\n",
      "  \u001b[38;5;1m 0.7071  \u001b[0m \u001b[38;5;1m-0.7071  \u001b[0m \u001b[38;5;1m 0       \u001b[0m \u001b[38;5;4m-0.7071  \u001b[0m  \u001b[0m\n",
      "  \u001b[38;5;1m 0.7071  \u001b[0m \u001b[38;5;1m 0.7071  \u001b[0m \u001b[38;5;1m 0       \u001b[0m \u001b[38;5;4m 2.121   \u001b[0m  \u001b[0m\n",
      "  \u001b[38;5;1m 0       \u001b[0m \u001b[38;5;1m 0       \u001b[0m \u001b[38;5;1m 1       \u001b[0m \u001b[38;5;4m 3       \u001b[0m  \u001b[0m\n",
      "  \u001b[38;5;244m 0       \u001b[0m \u001b[38;5;244m 0       \u001b[0m \u001b[38;5;244m 0       \u001b[0m \u001b[38;5;244m 1       \u001b[0m  \u001b[0m\n",
      "\n",
      "Original Point:\n",
      "[1 0 0]\n",
      "Transformed Point:\n",
      "[0.         2.82842712 3.        ]\n"
     ]
    }
   ],
   "source": [
    "import numpy as np\n",
    "from spatialmath import SE3\n",
    "\n",
    "# Create a Homogeneous Transformation using a translation of x=1, y=2, z=3\n",
    "T1 = SE3(1, 2, 3)\n",
    "print(\"Translation Transformation T1:\")\n",
    "print(T1)\n",
    "\n",
    "# Create a Homogeneous Transformation from a rotation about the z-axis by 45 degrees\n",
    "Rz_45 = SE3.Rz(np.radians(45))\n",
    "print(\"\\nRotation around Z-axis (45 degrees) Rz_45:\")\n",
    "print(Rz_45)\n",
    "\n",
    "# Apply a transformation that has both rotation and translation\n",
    "combined_transform = Rz_45 * T1\n",
    "print(\"Combined Transformation:\")\n",
    "print(combined_transform)\n",
    "\n",
    "# Transforming a point using the Homogeneous Transformation\n",
    "point = np.array([1, 0, 0, 1])  # Point at x=1, y=0, z=0 and w=1 (for homogeneous transformation)\n",
    "transformed_point = combined_transform.A @ point  # Use .A to get the matrix as a NumPy array\n",
    "\n",
    "print(\"Original Point:\")\n",
    "print(point[:3])\n",
    "print(\"Transformed Point:\")\n",
    "print(transformed_point[:3])"
   ]
  }
 ],
 "metadata": {
  "kernelspec": {
   "display_name": "Python 3",
   "language": "python",
   "name": "python3"
  },
  "language_info": {
   "codemirror_mode": {
    "name": "ipython",
    "version": 3
   },
   "file_extension": ".py",
   "mimetype": "text/x-python",
   "name": "python",
   "nbconvert_exporter": "python",
   "pygments_lexer": "ipython3",
   "version": "3.10.11"
  },
  "orig_nbformat": 4
 },
 "nbformat": 4,
 "nbformat_minor": 2
}
