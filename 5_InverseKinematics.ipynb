{
 "cells": [
  {
   "cell_type": "markdown",
   "metadata": {},
   "source": [
    "# Inverse Kinematics for a 3R Manipulator\n",
    "In this notebook, we'll compute the inverse kinematics of a 3-link (3R) robot arm using the Robotics Toolbox for Python.\n"
   ]
  },
  {
   "cell_type": "code",
   "execution_count": 7,
   "metadata": {},
   "outputs": [],
   "source": [
    "import roboticstoolbox as rtb\n",
    "from math import pi\n",
    "from spatialmath import SE3\n",
    "import numpy as np"
   ]
  },
  {
   "cell_type": "markdown",
   "metadata": {},
   "source": [
    "## Defining the Robot\n",
    "We'll begin by defining the 3R robot. Each revolute joint (R) will have a standard Denavit-Hartenberg (DH) parameter.\n"
   ]
  },
  {
   "cell_type": "code",
   "execution_count": 13,
   "metadata": {},
   "outputs": [],
   "source": [
    "# Define the robot using DH parameters\n",
    "robot = rtb.DHRobot([\n",
    "    rtb.RevoluteMDH(d=1),  # Link length = 1\n",
    "    rtb.RevoluteMDH(a=1, alpha=pi/2),  # Link length = 1\n",
    "    rtb.RevoluteMDH(a=1)   # Link length = 1\n",
    "], name=\"3R_robot\")"
   ]
  },
  {
   "cell_type": "markdown",
   "metadata": {},
   "source": [
    "## Inverse Kinematics\n",
    "To compute the inverse kinematics, we'll specify a desired end effector position and use the robot's IK methods to compute the joint angles.\n"
   ]
  },
  {
   "cell_type": "code",
   "execution_count": 15,
   "metadata": {},
   "outputs": [],
   "source": [
    "from scipy.optimize import minimize\n",
    "\n",
    "def custom_ikine(robot, T_desired, initial_guess):\n",
    "    \"\"\"\n",
    "    Custom function to compute inverse kinematics using optimization.\n",
    "    \n",
    "    Parameters:\n",
    "    - robot: The robot object\n",
    "    - T_desired: Desired end-effector pose\n",
    "    - initial_guess: Initial guess for joint angles\n",
    "    \n",
    "    Returns:\n",
    "    - q: Computed joint angles\n",
    "    \"\"\"\n",
    "    # Define the objective function\n",
    "    def objective(q):\n",
    "        T_actual = robot.fkine(q)\n",
    "        return np.linalg.norm(T_actual.A - T_desired.A)\n",
    "    \n",
    "    # Run the optimization\n",
    "    result = minimize(objective, initial_guess, bounds=[(-pi, pi) for _ in initial_guess])\n",
    "    \n",
    "    return result.x\n",
    "\n",
    "\n"
   ]
  },
  {
   "cell_type": "code",
   "execution_count": 29,
   "metadata": {},
   "outputs": [
    {
     "name": "stdout",
     "output_type": "stream",
     "text": [
      "q solution\n",
      "[ 0.78539752  0.78542624 -1.57082666]\n",
      "end-effector pose\n",
      "  \u001b[38;5;1m 0.5     \u001b[0m \u001b[38;5;1m 0.5     \u001b[0m \u001b[38;5;1m 0.7071  \u001b[0m \u001b[38;5;4m 1.207   \u001b[0m  \u001b[0m\n",
      "  \u001b[38;5;1m 0.5     \u001b[0m \u001b[38;5;1m 0.5     \u001b[0m \u001b[38;5;1m-0.7071  \u001b[0m \u001b[38;5;4m 1.207   \u001b[0m  \u001b[0m\n",
      "  \u001b[38;5;1m-0.7071  \u001b[0m \u001b[38;5;1m 0.7071  \u001b[0m \u001b[38;5;1m 0       \u001b[0m \u001b[38;5;4m 1.707   \u001b[0m  \u001b[0m\n",
      "  \u001b[38;5;244m 0       \u001b[0m \u001b[38;5;244m 0       \u001b[0m \u001b[38;5;244m 0       \u001b[0m \u001b[38;5;244m 1       \u001b[0m  \u001b[0m\n",
      "\n",
      "q solution\n",
      "[1.08487204 1.46812195 3.14159265]\n",
      "end-effector pose\n",
      "  \u001b[38;5;1m-0.04787 \u001b[0m \u001b[38;5;1m 0.4646  \u001b[0m \u001b[38;5;1m 0.8842  \u001b[0m \u001b[38;5;4m 0.5149  \u001b[0m  \u001b[0m\n",
      "  \u001b[38;5;1m-0.09063 \u001b[0m \u001b[38;5;1m 0.8796  \u001b[0m \u001b[38;5;1m-0.467   \u001b[0m \u001b[38;5;4m 0.9749  \u001b[0m  \u001b[0m\n",
      "  \u001b[38;5;1m-0.9947  \u001b[0m \u001b[38;5;1m-0.1025  \u001b[0m \u001b[38;5;1m 0       \u001b[0m \u001b[38;5;4m 1.995   \u001b[0m  \u001b[0m\n",
      "  \u001b[38;5;244m 0       \u001b[0m \u001b[38;5;244m 0       \u001b[0m \u001b[38;5;244m 0       \u001b[0m \u001b[38;5;244m 1       \u001b[0m  \u001b[0m\n",
      "\n"
     ]
    }
   ],
   "source": [
    "# Desired end effector pose\n",
    "T_desired = SE3(1.207, 1.207, 1.707)\n",
    "\n",
    "# Use the custom IK function\n",
    "initial_guess = [[0, 0, 0], [pi/2, pi/2,pi/2]]\n",
    "for init_guess in initial_guess:\n",
    "    \n",
    "    q_sol = custom_ikine(robot, T_desired, init_guess)\n",
    "    print(\"q solution\")\n",
    "    print(q_sol)\n",
    "\n",
    "    # Compute forward kinematics\n",
    "    print(\"end-effector pose\")\n",
    "    T = robot.fkine(q_sol)\n",
    "    print(T)"
   ]
  },
  {
   "cell_type": "code",
   "execution_count": 38,
   "metadata": {},
   "outputs": [
    {
     "name": "stdout",
     "output_type": "stream",
     "text": [
      "[ 0.78017132  0.77362816 -1.54067153]\n"
     ]
    }
   ],
   "source": [
    "# Desired end effector pose\n",
    "T_desired = SE3(1.207, 1.207, 1.707)\n",
    "\n",
    "# Compute inverse kinematics\n",
    "q_sol_ik_LM, *_ = robot.ikine_LM(T_desired)  # Note: Some robots might have multiple IK solutions\n",
    "\n",
    "print(q_sol_ik_LM)"
   ]
  },
  {
   "cell_type": "markdown",
   "metadata": {},
   "source": [
    "## Visualization\n",
    "Now, let's visualize the robot's configuration for the computed joint angles.\n"
   ]
  },
  {
   "cell_type": "code",
   "execution_count": 39,
   "metadata": {},
   "outputs": [
    {
     "data": {
      "image/png": "[encoded data removed]",
      "text/plain": [
       "<Figure size 432x288 with 1 Axes>"
      ]
     },
     "metadata": {},
     "output_type": "display_data"
    },
    {
     "name": "stdout",
     "output_type": "stream",
     "text": [
      "end-effector pose\n",
      "  \u001b[38;5;1m 0.5117  \u001b[0m \u001b[38;5;1m 0.4933  \u001b[0m \u001b[38;5;1m 0.7034  \u001b[0m \u001b[38;5;4m 1.219   \u001b[0m  \u001b[0m\n",
      "  \u001b[38;5;1m 0.5064  \u001b[0m \u001b[38;5;1m 0.4882  \u001b[0m \u001b[38;5;1m-0.7108  \u001b[0m \u001b[38;5;4m 1.207   \u001b[0m  \u001b[0m\n",
      "  \u001b[38;5;1m-0.694   \u001b[0m \u001b[38;5;1m 0.72    \u001b[0m \u001b[38;5;1m 0       \u001b[0m \u001b[38;5;4m 1.699   \u001b[0m  \u001b[0m\n",
      "  \u001b[38;5;244m 0       \u001b[0m \u001b[38;5;244m 0       \u001b[0m \u001b[38;5;244m 0       \u001b[0m \u001b[38;5;244m 1       \u001b[0m  \u001b[0m\n",
      "\n"
     ]
    },
    {
     "data": {
      "text/plain": [
       "<Figure size 432x288 with 0 Axes>"
      ]
     },
     "metadata": {},
     "output_type": "display_data"
    }
   ],
   "source": [
    "# Plot the robot\n",
    "fig = robot.plot(q_sol_ik_LM, block=False)\n",
    "\n",
    "# Compute forward kinematics\n",
    "print(\"end-effector pose\")\n",
    "T = robot.fkine(q_sol_ik_LM)\n",
    "print(T)"
   ]
  }
 ],
 "metadata": {
  "kernelspec": {
   "display_name": "Python 3",
   "language": "python",
   "name": "python3"
  },
  "language_info": {
   "codemirror_mode": {
    "name": "ipython",
    "version": 3
   },
   "file_extension": ".py",
   "mimetype": "text/x-python",
   "name": "python",
   "nbconvert_exporter": "python",
   "pygments_lexer": "ipython3",
   "version": "3.8.12"
  },
  "orig_nbformat": 4
 },
 "nbformat": 4,
 "nbformat_minor": 2
}
