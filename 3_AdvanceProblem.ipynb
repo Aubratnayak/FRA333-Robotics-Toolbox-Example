{
 "cells": [
  {
   "cell_type": "code",
   "execution_count": null,
   "metadata": {},
   "outputs": [],
   "source": []
  },
  {
   "cell_type": "markdown",
   "metadata": {},
   "source": [
    "# Robotic Arm End-Effector Position Calculation\n",
    "\n",
    "In this notebook, we'll compute the end-effector position of a 2-DOF planar robotic arm given its joint angles. The robotic arm consists of two joints and two link lengths. Both joints rotate about the Z-axis.\n"
   ]
  },
  {
   "cell_type": "code",
   "execution_count": 2,
   "metadata": {},
   "outputs": [],
   "source": [
    "import numpy as np\n",
    "from spatialmath import SE3"
   ]
  },
  {
   "cell_type": "markdown",
   "metadata": {},
   "source": [
    "## Robotic Arm Specifications\n",
    "\n",
    "We define the lengths of the links and the joint angles for our robotic arm.\n"
   ]
  },
  {
   "cell_type": "code",
   "execution_count": 3,
   "metadata": {},
   "outputs": [],
   "source": [
    "# Define link lengths and joint angles\n",
    "l1 = 1.0  # Length of first link in meters\n",
    "l2 = 1.0  # Length of second link in meters\n",
    "\n",
    "q1 = np.radians(45)  # First joint angle in radians (45 degrees)\n",
    "q2 = np.radians(30)  # Second joint angle in radians (30 degrees)\n"
   ]
  },
  {
   "cell_type": "markdown",
   "metadata": {},
   "source": [
    "## Compute End-Effector Position\n",
    "\n",
    "Using the joint angles and link lengths, we'll compute the transformation matrices for each joint and then determine the end-effector position.\n"
   ]
  },
  {
   "cell_type": "code",
   "execution_count": 4,
   "metadata": {},
   "outputs": [
    {
     "name": "stdout",
     "output_type": "stream",
     "text": [
      "  \u001b[38;5;1m 0.2588  \u001b[0m \u001b[38;5;1m-0.9659  \u001b[0m \u001b[38;5;1m 0       \u001b[0m \u001b[38;5;4m-1.673   \u001b[0m  \u001b[0m\n",
      "  \u001b[38;5;1m 0.9659  \u001b[0m \u001b[38;5;1m 0.2588  \u001b[0m \u001b[38;5;1m 0       \u001b[0m \u001b[38;5;4m 0.9659  \u001b[0m  \u001b[0m\n",
      "  \u001b[38;5;1m 0       \u001b[0m \u001b[38;5;1m 0       \u001b[0m \u001b[38;5;1m 1       \u001b[0m \u001b[38;5;4m 0       \u001b[0m  \u001b[0m\n",
      "  \u001b[38;5;244m 0       \u001b[0m \u001b[38;5;244m 0       \u001b[0m \u001b[38;5;244m 0       \u001b[0m \u001b[38;5;244m 1       \u001b[0m  \u001b[0m\n",
      "\n"
     ]
    }
   ],
   "source": [
    "# Transformation due to first joint and link\n",
    "T1 = SE3.Rz(q1) * SE3(0, l1, 0)\n",
    "\n",
    "# Transformation due to second joint and link\n",
    "T2 = SE3.Rz(q2) * SE3(0, l2, 0)\n",
    "\n",
    "# Combine transformations to get end-effector position\n",
    "end_effector_position = T1 * T2\n",
    "print(end_effector_position)\n"
   ]
  },
  {
   "cell_type": "markdown",
   "metadata": {},
   "source": [
    "## Extracting Translational Component\n",
    "\n",
    "To determine the exact coordinates of the end-effector in the 2D plane, we extract the translational component from the transformation matrix.\n"
   ]
  },
  {
   "cell_type": "code",
   "execution_count": 5,
   "metadata": {},
   "outputs": [
    {
     "name": "stdout",
     "output_type": "stream",
     "text": [
      "End-Effector Position (x, y): -1.6730326074756159 0.9659258262890684\n"
     ]
    }
   ],
   "source": [
    "position = end_effector_position.t\n",
    "print(\"End-Effector Position (x, y):\", position[0], position[1])\n"
   ]
  },
  {
   "cell_type": "markdown",
   "metadata": {},
   "source": [
    "## Conclusion\n",
    "\n",
    "The computed (x, y) coordinates give the position of the robotic arm's end-effector in the 2D plane for the given joint angles.\n"
   ]
  }
 ],
 "metadata": {
  "kernelspec": {
   "display_name": "Python 3",
   "language": "python",
   "name": "python3"
  },
  "language_info": {
   "codemirror_mode": {
    "name": "ipython",
    "version": 3
   },
   "file_extension": ".py",
   "mimetype": "text/x-python",
   "name": "python",
   "nbconvert_exporter": "python",
   "pygments_lexer": "ipython3",
   "version": "3.10.11"
  },
  "orig_nbformat": 4
 },
 "nbformat": 4,
 "nbformat_minor": 2
}
