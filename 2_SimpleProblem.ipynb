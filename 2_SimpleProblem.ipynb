{
 "cells": [
  {
   "cell_type": "markdown",
   "metadata": {},
   "source": [
    "# Drone Transformation Problem\n",
    "\n",
    "## Problem Statement:\n",
    "\n",
    "Let's consider a drone that starts at the origin of our 3D coordinate system. We wish to apply a sequence of transformations to move the drone to a desired location and orientation:\n",
    "\n",
    "Translate the drone by 5 units along the X-axis.\n",
    "Rotate the drone by 45 degrees about the Z-axis.\n",
    "Translate the drone by 3 units along the Y-axis.\n",
    "We want to determine the drone's final position and orientation after these transformations.\n",
    "\n",
    "## Solution\n",
    "We have a drone that starts at the origin of our 3D coordinate system. We wish to apply a sequence of transformations to move the drone to a desired location and orientation. This notebook will compute the drone's final position and orientation after the specified transformations.\n"
   ]
  },
  {
   "cell_type": "code",
   "execution_count": 2,
   "metadata": {},
   "outputs": [],
   "source": [
    "import numpy as np\n",
    "from spatialmath import SE3"
   ]
  },
  {
   "cell_type": "markdown",
   "metadata": {},
   "source": [
    "## Define Initial State\n",
    "\n",
    "The drone starts at the origin of our coordinate system."
   ]
  },
  {
   "cell_type": "code",
   "execution_count": 3,
   "metadata": {},
   "outputs": [
    {
     "name": "stdout",
     "output_type": "stream",
     "text": [
      "  \u001b[38;5;1m 1       \u001b[0m \u001b[38;5;1m 0       \u001b[0m \u001b[38;5;1m 0       \u001b[0m \u001b[38;5;4m 0       \u001b[0m  \u001b[0m\n",
      "  \u001b[38;5;1m 0       \u001b[0m \u001b[38;5;1m 1       \u001b[0m \u001b[38;5;1m 0       \u001b[0m \u001b[38;5;4m 0       \u001b[0m  \u001b[0m\n",
      "  \u001b[38;5;1m 0       \u001b[0m \u001b[38;5;1m 0       \u001b[0m \u001b[38;5;1m 1       \u001b[0m \u001b[38;5;4m 0       \u001b[0m  \u001b[0m\n",
      "  \u001b[38;5;244m 0       \u001b[0m \u001b[38;5;244m 0       \u001b[0m \u001b[38;5;244m 0       \u001b[0m \u001b[38;5;244m 1       \u001b[0m  \u001b[0m\n",
      "\n"
     ]
    }
   ],
   "source": [
    "initial_position = SE3()  # Identity matrix, representing the origin\n",
    "print(initial_position)"
   ]
  },
  {
   "cell_type": "markdown",
   "metadata": {},
   "source": [
    "## Apply Transformations\n",
    "\n",
    "We'll now apply the sequence of transformations to the drone's position."
   ]
  },
  {
   "cell_type": "code",
   "execution_count": 4,
   "metadata": {},
   "outputs": [
    {
     "name": "stdout",
     "output_type": "stream",
     "text": [
      "  \u001b[38;5;1m 0.7071  \u001b[0m \u001b[38;5;1m-0.7071  \u001b[0m \u001b[38;5;1m 0       \u001b[0m \u001b[38;5;4m 2.879   \u001b[0m  \u001b[0m\n",
      "  \u001b[38;5;1m 0.7071  \u001b[0m \u001b[38;5;1m 0.7071  \u001b[0m \u001b[38;5;1m 0       \u001b[0m \u001b[38;5;4m 2.121   \u001b[0m  \u001b[0m\n",
      "  \u001b[38;5;1m 0       \u001b[0m \u001b[38;5;1m 0       \u001b[0m \u001b[38;5;1m 1       \u001b[0m \u001b[38;5;4m 0       \u001b[0m  \u001b[0m\n",
      "  \u001b[38;5;244m 0       \u001b[0m \u001b[38;5;244m 0       \u001b[0m \u001b[38;5;244m 0       \u001b[0m \u001b[38;5;244m 1       \u001b[0m  \u001b[0m\n",
      "\n"
     ]
    }
   ],
   "source": [
    "# Translate by 5 units along the X-axis\n",
    "T1 = SE3(5, 0, 0)\n",
    "\n",
    "# Rotate by 45 degrees about the Z-axis\n",
    "R = SE3.Rz(np.radians(45))\n",
    "\n",
    "# Translate by 3 units along the Y-axis\n",
    "T2 = SE3(0, 3, 0)\n",
    "\n",
    "# Combine transformations\n",
    "final_position = T1 * R * T2 * initial_position\n",
    "print(final_position)\n"
   ]
  },
  {
   "cell_type": "markdown",
   "metadata": {},
   "source": [
    "## Conclusion\n",
    "\n",
    "The above transformation matrix provides the final position and orientation of the drone after the sequence of movements. We can extract the translational component for the exact coordinates in the 3D space.\n"
   ]
  },
  {
   "cell_type": "code",
   "execution_count": 5,
   "metadata": {},
   "outputs": [
    {
     "name": "stdout",
     "output_type": "stream",
     "text": [
      "Final position of the drone: [2.87867966 2.12132034 0.        ]\n"
     ]
    }
   ],
   "source": [
    "translation = final_position.t\n",
    "print(\"Final position of the drone:\", translation)"
   ]
  }
 ],
 "metadata": {
  "kernelspec": {
   "display_name": "Python 3",
   "language": "python",
   "name": "python3"
  },
  "language_info": {
   "codemirror_mode": {
    "name": "ipython",
    "version": 3
   },
   "file_extension": ".py",
   "mimetype": "text/x-python",
   "name": "python",
   "nbconvert_exporter": "python",
   "pygments_lexer": "ipython3",
   "version": "3.10.11"
  },
  "orig_nbformat": 4
 },
 "nbformat": 4,
 "nbformat_minor": 2
}
