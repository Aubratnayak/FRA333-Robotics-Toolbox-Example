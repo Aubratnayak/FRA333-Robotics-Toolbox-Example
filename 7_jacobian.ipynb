{
 "cells": [
  {
   "cell_type": "markdown",
   "metadata": {},
   "source": [
    "# Advanced Tutorial on Jacobians in Robot Manipulators\n",
    "\n",
    "In this tutorial, we will delve deep into the concept of the Jacobian in robotic manipulators, explore its significance, and visualize it using matplotlib.\n"
   ]
  },
  {
   "cell_type": "code",
   "execution_count": 7,
   "metadata": {},
   "outputs": [
    {
     "name": "stdout",
     "output_type": "stream",
     "text": [
      "Requirement already satisfied: roboticstoolbox-python in /Users/kittithamrongaphichartkul/opt/miniconda3/lib/python3.9/site-packages (1.1.0)\n",
      "Requirement already satisfied: rtb-data in /Users/kittithamrongaphichartkul/opt/miniconda3/lib/python3.9/site-packages (from roboticstoolbox-python) (0.10.1)\n",
      "Requirement already satisfied: scipy in /Users/kittithamrongaphichartkul/opt/miniconda3/lib/python3.9/site-packages (from roboticstoolbox-python) (1.7.1)\n",
      "Requirement already satisfied: swift-sim>=1.0.0 in /Users/kittithamrongaphichartkul/opt/miniconda3/lib/python3.9/site-packages (from roboticstoolbox-python) (1.1.0)\n",
      "Requirement already satisfied: spatialgeometry>=1.0.0 in /Users/kittithamrongaphichartkul/opt/miniconda3/lib/python3.9/site-packages (from roboticstoolbox-python) (1.1.0)\n",
      "Requirement already satisfied: pgraph-python in /Users/kittithamrongaphichartkul/opt/miniconda3/lib/python3.9/site-packages (from roboticstoolbox-python) (0.6.1)\n",
      "Requirement already satisfied: progress in /Users/kittithamrongaphichartkul/opt/miniconda3/lib/python3.9/site-packages (from roboticstoolbox-python) (1.6)\n",
      "Requirement already satisfied: typing-extensions in /Users/kittithamrongaphichartkul/opt/miniconda3/lib/python3.9/site-packages (from roboticstoolbox-python) (3.10.0.2)\n",
      "Requirement already satisfied: ansitable in /Users/kittithamrongaphichartkul/opt/miniconda3/lib/python3.9/site-packages (from roboticstoolbox-python) (0.9.6)\n",
      "Requirement already satisfied: numpy>=1.17.4 in /Users/kittithamrongaphichartkul/opt/miniconda3/lib/python3.9/site-packages (from roboticstoolbox-python) (1.19.5)\n",
      "Requirement already satisfied: spatialmath-python>=1.1.5 in /Users/kittithamrongaphichartkul/opt/miniconda3/lib/python3.9/site-packages (from roboticstoolbox-python) (1.1.8)\n",
      "Requirement already satisfied: matplotlib in /Users/kittithamrongaphichartkul/opt/miniconda3/lib/python3.9/site-packages (from roboticstoolbox-python) (3.4.2)\n",
      "Requirement already satisfied: websockets in /Users/kittithamrongaphichartkul/opt/miniconda3/lib/python3.9/site-packages (from swift-sim>=1.0.0->roboticstoolbox-python) (9.1)\n",
      "Requirement already satisfied: colored in /Users/kittithamrongaphichartkul/opt/miniconda3/lib/python3.9/site-packages (from ansitable->roboticstoolbox-python) (1.4.3)\n",
      "Requirement already satisfied: python-dateutil>=2.7 in /Users/kittithamrongaphichartkul/opt/miniconda3/lib/python3.9/site-packages (from matplotlib->roboticstoolbox-python) (2.8.2)\n",
      "Requirement already satisfied: pillow>=6.2.0 in /Users/kittithamrongaphichartkul/opt/miniconda3/lib/python3.9/site-packages (from matplotlib->roboticstoolbox-python) (8.4.0)\n",
      "Requirement already satisfied: cycler>=0.10 in /Users/kittithamrongaphichartkul/opt/miniconda3/lib/python3.9/site-packages (from matplotlib->roboticstoolbox-python) (0.10.0)\n",
      "Requirement already satisfied: pyparsing>=2.2.1 in /Users/kittithamrongaphichartkul/opt/miniconda3/lib/python3.9/site-packages (from matplotlib->roboticstoolbox-python) (2.4.7)\n",
      "Requirement already satisfied: kiwisolver>=1.0.1 in /Users/kittithamrongaphichartkul/opt/miniconda3/lib/python3.9/site-packages (from matplotlib->roboticstoolbox-python) (1.3.2)\n",
      "Requirement already satisfied: six in /Users/kittithamrongaphichartkul/opt/miniconda3/lib/python3.9/site-packages (from cycler>=0.10->matplotlib->roboticstoolbox-python) (1.16.0)\n"
     ]
    }
   ],
   "source": [
    "!pip install roboticstoolbox-python\n",
    "\n",
    "import numpy as np\n",
    "import roboticstoolbox as rtb\n",
    "import matplotlib.pyplot as plt\n"
   ]
  },
  {
   "cell_type": "markdown",
   "metadata": {},
   "source": [
    "## Background\n",
    "\n",
    "The Jacobian matrix plays a crucial role in robot kinematics. It connects the velocity of the robot's joints to the linear and angular velocity of the end-effector, and is crucial for tasks such as motion planning and control.\n",
    "\n",
    "## Robot Definition\n",
    "\n",
    "Let's define a simple 2-link (2R) planar robot for our Jacobian exploration.\n"
   ]
  },
  {
   "cell_type": "code",
   "execution_count": 45,
   "metadata": {},
   "outputs": [],
   "source": [
    "# Define a 2R robot using standard DH parameters\n",
    "a1, a2 = 1.5, 1\n",
    "robot = rtb.DHRobot([\n",
    "    rtb.RevoluteDH(a=a1),   # First link of length 1\n",
    "    rtb.RevoluteDH(a=a2)    # Second link of length 1\n",
    "], name=\"2R_robot\")\n"
   ]
  },
  {
   "cell_type": "markdown",
   "metadata": {},
   "source": [
    "## Understanding the Jacobian\n",
    "\n",
    "The Jacobian matrix provides a relationship between joint velocities and end-effector velocities. It can be visualized as a transformation that converts a change in joint space to a change in Cartesian space.\n"
   ]
  },
  {
   "cell_type": "code",
   "execution_count": 46,
   "metadata": {},
   "outputs": [
    {
     "name": "stdout",
     "output_type": "stream",
     "text": [
      "[[-2.06066017e+00 -1.00000000e+00]\n",
      " [ 1.06066017e+00  1.79380389e-16]\n",
      " [ 0.00000000e+00  0.00000000e+00]\n",
      " [ 0.00000000e+00  0.00000000e+00]\n",
      " [ 0.00000000e+00  0.00000000e+00]\n",
      " [ 1.00000000e+00  1.00000000e+00]]\n"
     ]
    },
    {
     "name": "stderr",
     "output_type": "stream",
     "text": [
      "<ipython-input-46-dc45a8780ebc>:7: MatplotlibDeprecationWarning: Auto-removal of grids by pcolor() and pcolormesh() is deprecated since 3.5 and will be removed two minor releases later; please call grid(False) first.\n",
      "  plt.colorbar(label='Magnitude')\n"
     ]
    },
    {
     "data": {
      "image/png": "[encoded data removed]",
      "text/plain": [
       "<Figure size 432x288 with 2 Axes>"
      ]
     },
     "metadata": {},
     "output_type": "display_data"
    }
   ],
   "source": [
    "# Compute Jacobian for a sample joint configuration\n",
    "q = [np.pi/4, np.pi/4]\n",
    "J = robot.jacob0(q)\n",
    "print(J)\n",
    "# Visualize Jacobian using a heatmap\n",
    "plt.imshow(J, cmap='viridis', interpolation='nearest')\n",
    "plt.colorbar(label='Magnitude')\n",
    "plt.title('Jacobian Matrix')\n",
    "plt.xlabel('Joints')\n",
    "plt.ylabel('Linear/Angular Velocity Components')\n",
    "plt.xticks(ticks=range(2), labels=[f'Joint {i+1}' for i in range(2)])\n",
    "plt.yticks(ticks=range(6), labels=['Vx', 'Vy', 'Vz', 'ωx', 'ωy', 'ωz'])\n",
    "plt.grid(False)\n",
    "plt.show()\n"
   ]
  },
  {
   "cell_type": "markdown",
   "metadata": {},
   "source": [
    "## Physical Interpretation\n",
    "\n",
    "Each column of the Jacobian corresponds to a joint of the robot. For a revolute joint, the first three rows of its column represent the linear velocity resulting from the rotation of that joint, while the last three rows represent the angular velocity.\n",
    "\n",
    "## Jacobian Singularities\n",
    "\n",
    "A singularity occurs when the determinant of the Jacobian is zero. In these configurations, the robot loses its ability to move in certain directions. Let's visualize the determinant of the Jacobian across the robot's workspace.\n"
   ]
  },
  {
   "cell_type": "code",
   "execution_count": 51,
   "metadata": {},
   "outputs": [
    {
     "data": {
      "image/png": "[encoded data removed]",
      "text/plain": [
       "<Figure size 432x288 with 1 Axes>"
      ]
     },
     "metadata": {},
     "output_type": "display_data"
    }
   ],
   "source": [
    "import matplotlib.pyplot as plt\n",
    "\n",
    "theta1_vals = np.linspace(-np.pi, np.pi, 400)\n",
    "theta2_vals = np.linspace(-np.pi, np.pi, 400)\n",
    "\n",
    "singular_points = []\n",
    "\n",
    "def jacobian(q):\n",
    "    \"\"\"Compute the Jacobian for a 2R robot.\"\"\"\n",
    "    J = np.array([\n",
    "        [-a1 * np.sin(q[0]) - a2 * np.sin(q[0] + q[1]), -a2 * np.sin(q[0] + q[1])],\n",
    "        [a1 * np.cos(q[0]) + a2 * np.cos(q[0] + q[1]), a2 * np.cos(q[0] + q[1])]\n",
    "    ])\n",
    "    return J\n",
    "\n",
    "\n",
    "for theta1 in theta1_vals:\n",
    "    for theta2 in theta2_vals:\n",
    "        J = jacobian([theta1, theta2])\n",
    "        if abs(np.linalg.det(J)) < 1e-3:  # Near-zero determinant indicates a singularity\n",
    "            singular_points.append((theta1, theta2))\n",
    "\n",
    "# Extracting the singular points\n",
    "theta1_sing, theta2_sing = zip(*singular_points)\n",
    "\n",
    "# Plot\n",
    "plt.scatter(theta1_sing, theta2_sing, s=1, color=\"red\")\n",
    "plt.title(\"Singularity Space of 2R Robot\")\n",
    "plt.xlabel(\"Theta 1 (radians)\")\n",
    "plt.ylabel(\"Theta 2 (radians)\")\n",
    "plt.grid(True)\n",
    "plt.show()\n"
   ]
  },
  {
   "cell_type": "markdown",
   "metadata": {},
   "source": [
    "## Conclusion\n",
    "\n",
    "The Jacobian matrix provides valuable insights into the motion of robotic manipulators. Understanding its properties and singularities is essential for effective robot control and motion planning.\n"
   ]
  },
  {
   "cell_type": "markdown",
   "metadata": {},
   "source": [
    "# Manipulability in Robot Manipulators\n",
    "\n",
    "## Introduction\n",
    "\n",
    "Manipulability is a measure that describes how well a robot can move its end-effector in different directions at a given joint configuration. The concept was introduced by Yoshihiko Nakamura to express the isotropy of the robot's motion capabilities.\n",
    "\n",
    "## Mathematical Definition\n",
    "\n",
    "For a given joint velocity, the end-effector velocity is given by:\n",
    "$$ v = J \\cdot \\dot{q} $$\n",
    "\n",
    "Where:\n",
    "- \\( v \\) is the end-effector velocity.\n",
    "- \\( J \\) is the Jacobian matrix of the robot.\n",
    "- \\( \\dot{q} \\) is the joint velocity.\n",
    "\n",
    "The manipulability measure, \\( w \\), is defined as the square root of the determinant of the product of the Jacobian matrix and its transpose:\n",
    "$$ w = \\sqrt{\\text{det}(J \\cdot J^T)} $$\n",
    "\n",
    "The manipulability measure provides insight into the robot's capability to move its end-effector. When \\( w \\) is large, the robot can move effectively in many directions. When \\( w \\) is close to zero, the robot is close to a singularity and its motion capabilities are limited.\n"
   ]
  },
  {
   "cell_type": "code",
   "execution_count": 52,
   "metadata": {},
   "outputs": [],
   "source": [
    "import numpy as np\n",
    "\n",
    "def compute_manipulability(J):\n",
    "    \"\"\"Compute the manipulability for a given Jacobian matrix.\"\"\"\n",
    "    w = np.sqrt(np.linalg.det(J @ J.T))\n",
    "    return w\n"
   ]
  },
  {
   "cell_type": "code",
   "execution_count": 53,
   "metadata": {},
   "outputs": [
    {
     "name": "stdout",
     "output_type": "stream",
     "text": [
      "1.5000000000000002\n"
     ]
    }
   ],
   "source": [
    "q = [np.pi/2, np.pi/2]\n",
    "J = robot.jacob0(q)\n",
    "J_reduced = J[:2, :2]\n",
    "m = compute_manipulability(J_reduced)\n",
    "print(m)"
   ]
  }
 ],
 "metadata": {
  "kernelspec": {
   "display_name": "Python 3",
   "language": "python",
   "name": "python3"
  },
  "language_info": {
   "codemirror_mode": {
    "name": "ipython",
    "version": 3
   },
   "file_extension": ".py",
   "mimetype": "text/x-python",
   "name": "python",
   "nbconvert_exporter": "python",
   "pygments_lexer": "ipython3",
   "version": "3.8.12"
  },
  "orig_nbformat": 4
 },
 "nbformat": 4,
 "nbformat_minor": 2
}
